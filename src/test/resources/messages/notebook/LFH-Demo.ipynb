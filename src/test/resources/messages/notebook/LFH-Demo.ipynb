{
 "cells": [
  {
   "cell_type": "markdown",
   "metadata": {},
   "source": [
    "# Linux for Health (LFH) - Pulse Demo"
   ]
  },
  {
   "cell_type": "code",
   "execution_count": null,
   "metadata": {
    "jupyter": {
     "source_hidden": true
    }
   },
   "outputs": [],
   "source": [
    "import requests\n",
    "import json\n",
    "import pandas as pd\n",
    "import base64\n",
    "import io\n",
    "from requests.auth import HTTPBasicAuth\n",
    "from IPython.display import Image, display\n",
    "from PIL import Image as Img\n",
    "from IPython.core.display import HTML\n",
    "#from ipyfilechooser import FileChooser\n",
    "from ipywidgets import Dropdown, Text, Layout"
   ]
  },
  {
   "cell_type": "markdown",
   "metadata": {},
   "source": [
    "## Overview\n",
    "<img src=\"overview.png\" width=\"1200px\">\n",
    "\n",
    "---\n",
    "\n",
    "## Select DICOM image to post to Raspberry Pi"
   ]
  },
  {
   "cell_type": "code",
   "execution_count": null,
   "metadata": {},
   "outputs": [],
   "source": [
    "# Request dicom file for posting to lfh from user\n",
    "widgets.FileUpload(multiple=False)\n",
    "\n",
    "file_upload = widgets.FileUpload()\n",
    "\n",
    "print(\"Select DICOM image file for upload:\")\n",
    "display(file_upload)\n",
    "\n",
    "print('\\nSelect the receiving endpoint below')\n",
    "\n",
    "endpoint_0_localhost = \"http://127.0.0.1:9090/orthanc/instances\"\n",
    "\n",
    "endpoint_0_text = widgets.Text(\n",
    "    value=endpoint_0_localhost,\n",
    "    placeholder='Enter post endpoint url',\n",
    "    description='Url:',\n",
    "    disabled=False,\n",
    "    layout=Layout(width='30%')\n",
    ")\n",
    "\n",
    "def select_endpoint_0(change):\n",
    "    endpoint_0_text.value=change.new\n",
    "\n",
    "endpoint_0_menu = widgets.Dropdown(\n",
    "    options=[(\"localhost\",endpoint_0_localhost), ('Raspberry Pi',\"http://<HOST>:9090/orthanc/instances\")],\n",
    "    value=endpoint_0_localhost,\n",
    "    # rows=10,\n",
    "    description='Endpoint',\n",
    "    disabled=False\n",
    ")\n",
    "\n",
    "endpoint_0_menu.observe(select_endpoint_0, names='value')\n",
    "\n",
    "display(endpoint_0_menu)\n",
    "display(endpoint_0_text)"
   ]
  },
  {
   "cell_type": "code",
   "execution_count": null,
   "metadata": {},
   "outputs": [],
   "source": []
  },
  {
   "cell_type": "code",
   "execution_count": null,
   "metadata": {},
   "outputs": [],
   "source": [
    "# Post dicom file to lfh\n",
    "\n",
    "if file_upload.metadata:\n",
    "\n",
    "    # Retrieve file upload content and post as requst body\n",
    "    dicom_file = file_upload.value[file_upload.metadata[0]['name']]['content']\n",
    "\n",
    "    resp = requests.post(endpoint_0_text.value, auth=HTTPBasicAuth('orthanc','orthanc'), data=dicom_file)\n",
    "\n",
    "    if resp.ok:\n",
    "        json_data = resp.json()\n",
    "        print(\"File successfully posted - uuid:\", json_data['meta']['uuid'])\n",
    "        uuid = json_data['meta']['uuid']\n",
    "    else:\n",
    "        print(\"Post request failed - code: \", resp.status_code, \" body: \", resp.text)\n",
    "    \n",
    "else:\n",
    "    print(\"Please select file for upload\")"
   ]
  },
  {
   "cell_type": "code",
   "execution_count": null,
   "metadata": {},
   "outputs": [],
   "source": []
  },
  {
   "cell_type": "markdown",
   "metadata": {},
   "source": [
    "## Retrieve previously posted DICOM image from LinuxOne via LFH"
   ]
  },
  {
   "cell_type": "code",
   "execution_count": null,
   "metadata": {},
   "outputs": [],
   "source": [
    "endpoint_1_localhost = \"http://127.0.0.1:9000/topic/DICOM_IMAGE/messages?partition=0&offset=0&count=100&keyFormat=DEFAULT&format=DEFAULT\"\n",
    "\n",
    "endpoint_1_text = widgets.Text(\n",
    "    value=endpoint_1_localhost,\n",
    "    placeholder='Enter post endpoint url',\n",
    "    description='Url',\n",
    "    disabled=False,\n",
    "    layout=Layout(width='75%')\n",
    ")\n",
    "\n",
    "def select_endpoint_1(change):\n",
    "    endpoint_1_text.value=change.new\n",
    "\n",
    "endpoint_1_menu = widgets.Dropdown(\n",
    "    options=[(\"localhost\",endpoint_1_localhost), (\"LinuxOne\",\"http://<HOST>:9000/topic/DICOM_IMAGE/messages?partition=0&offset=0&count=100&keyFormat=DEFAULT&format=DEFAULT\")],\n",
    "    #value=1,\n",
    "    # rows=10,\n",
    "    description='Endpoint',\n",
    "    disabled=False\n",
    ")\n",
    "\n",
    "endpoint_1_menu.observe(select_endpoint_1, names='value')\n",
    "\n",
    "print('\\nSelect the endpoint below to retrieve the previously uploaded file')\n",
    "\n",
    "display(endpoint_1_menu)\n",
    "display(endpoint_1_text)"
   ]
  },
  {
   "cell_type": "code",
   "execution_count": null,
   "metadata": {},
   "outputs": [],
   "source": [
    "# Display retrieved dicom file from a different host\n",
    "\n",
    "resp = requests.get(endpoint_1_text.value, headers={\"accept\":\"application/json\"})\n",
    "\n",
    "json_data = resp.json()\n",
    "\n",
    "my_df = []\n",
    "\n",
    "def image_formatter(im):\n",
    "    return f'<img src=\"data:image/jpeg;base64,{im}\">'\n",
    "\n",
    "for i in json_data:\n",
    "    msg = i['message']\n",
    "    msg_json = json.loads(msg)\n",
    "    if uuid != msg_json['meta']['uuid']:\n",
    "        continue\n",
    "    data = msg_json['data']\n",
    "    dec_data = base64.b64decode(data).decode('utf-8')\n",
    "    img_json = json.loads(dec_data)\n",
    "    image_str = base64.b64decode(img_json['image'])\n",
    "    my_df.append([ msg_json['meta']['routeId'], msg_json['meta']['uuid'], img_json['image'] ])\n",
    "    \n",
    "my_df = pd.DataFrame(my_df, columns=['Route ID', 'UUID', 'Image'])\n",
    "\n",
    "HTML(my_df.to_html(formatters={'Image': image_formatter}, escape=False))"
   ]
  },
  {
   "cell_type": "code",
   "execution_count": null,
   "metadata": {},
   "outputs": [],
   "source": []
  }
 ],
 "metadata": {
  "kernelspec": {
   "display_name": "Python 3",
   "language": "python",
   "name": "python3"
  },
  "language_info": {
   "codemirror_mode": {
    "name": "ipython",
    "version": 3
   },
   "file_extension": ".py",
   "mimetype": "text/x-python",
   "name": "python",
   "nbconvert_exporter": "python",
   "pygments_lexer": "ipython3",
   "version": "3.8.2"
  }
 },
 "nbformat": 4,
 "nbformat_minor": 4
}
